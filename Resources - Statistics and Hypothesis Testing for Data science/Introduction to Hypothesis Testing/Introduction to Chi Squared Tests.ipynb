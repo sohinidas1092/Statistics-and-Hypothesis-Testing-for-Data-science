{
 "cells": [
  {
   "cell_type": "code",
   "execution_count": 1,
   "id": "9515f3fa",
   "metadata": {},
   "outputs": [],
   "source": [
    "import numpy as np\n",
    "import pandas as pd\n",
    "\n",
    "from scipy.stats import ttest_1samp  # one t test\n",
    "from scipy.stats import ttest_ind # two t test\n",
    "from scipy.stats import ttest_rel # paired t test"
   ]
  },
  {
   "cell_type": "code",
   "execution_count": 2,
   "id": "cfcdba97",
   "metadata": {},
   "outputs": [
    {
     "data": {
      "text/plain": [
       "(1460, 81)"
      ]
     },
     "execution_count": 2,
     "metadata": {},
     "output_type": "execute_result"
    }
   ],
   "source": [
    "# lets read the data\n",
    "data = pd.read_csv('train.csv')\n",
    "\n",
    "# lets check the shape of the dataset\n",
    "data.shape"
   ]
  },
  {
   "cell_type": "markdown",
   "id": "fc7c3bc3",
   "metadata": {},
   "source": [
    "## Chi-Squared Test"
   ]
  },
  {
   "cell_type": "markdown",
   "id": "103e2918",
   "metadata": {},
   "source": [
    "### Goodness of Fit test"
   ]
  },
  {
   "cell_type": "code",
   "execution_count": 3,
   "id": "38136b52",
   "metadata": {},
   "outputs": [
    {
     "name": "stdout",
     "output_type": "stream",
     "text": [
      "National\n",
      "col_0      count\n",
      "0               \n",
      "black      50000\n",
      "hispanic   60000\n",
      "other      35000\n",
      "white     100000\n",
      "Minnesota\n",
      "col_0     count\n",
      "0              \n",
      "black       250\n",
      "hispanic    300\n",
      "other       150\n",
      "white       600\n"
     ]
    }
   ],
   "source": [
    "# creating two dataframes called national and state.\n",
    "\n",
    "national = pd.DataFrame([\"white\"]*100000 + [\"hispanic\"]*60000 +\\\n",
    "                        [\"black\"]*50000 + [\"other\"]*35000)\n",
    "\n",
    "state = pd.DataFrame([\"white\"]*600 + [\"hispanic\"]*300 + \\\n",
    "                         [\"black\"]*250 + [\"other\"]*150)\n",
    "\n",
    "# Perform cross-tabulation to create frequency tables\n",
    "national_table = pd.crosstab(index=national[0], columns=\"count\")\n",
    "state_table = pd.crosstab(index=state[0], columns=\"count\")\n",
    "\n",
    "# Print the frequency tables\n",
    "print( \"National\")\n",
    "print(national_table)\n",
    "print( \"Minnesota\")\n",
    "print(state_table)"
   ]
  },
  {
   "cell_type": "code",
   "execution_count": null,
   "id": "b8c43c33",
   "metadata": {},
   "outputs": [],
   "source": []
  }
 ],
 "metadata": {
  "kernelspec": {
   "display_name": "Python 3 (ipykernel)",
   "language": "python",
   "name": "python3"
  },
  "language_info": {
   "codemirror_mode": {
    "name": "ipython",
    "version": 3
   },
   "file_extension": ".py",
   "mimetype": "text/x-python",
   "name": "python",
   "nbconvert_exporter": "python",
   "pygments_lexer": "ipython3",
   "version": "3.10.9"
  }
 },
 "nbformat": 4,
 "nbformat_minor": 5
}
