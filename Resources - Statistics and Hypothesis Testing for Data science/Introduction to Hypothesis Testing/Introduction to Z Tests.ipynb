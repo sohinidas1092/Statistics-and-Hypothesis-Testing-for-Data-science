{
 "cells": [
  {
   "cell_type": "code",
   "execution_count": null,
   "id": "3861999a",
   "metadata": {},
   "outputs": [],
   "source": [
    "import numpy as np\n",
    "import pandas as pd\n",
    "\n",
    "from scipy.stats import ttest_1samp  # one t test\n",
    "from scipy.stats import ttest_ind # two t test\n",
    "from scipy.stats import ttest_rel # paired t test"
   ]
  },
  {
   "cell_type": "code",
   "execution_count": null,
   "id": "496dad6e",
   "metadata": {},
   "outputs": [],
   "source": [
    "# lets read the data\n",
    "data = pd.read_csv('train.csv')\n",
    "\n",
    "# lets check the shape of the dataset\n",
    "data.shape"
   ]
  },
  {
   "cell_type": "markdown",
   "id": "1dff2506",
   "metadata": {},
   "source": [
    "## Z test"
   ]
  },
  {
   "cell_type": "code",
   "execution_count": null,
   "id": "08adf03a",
   "metadata": {},
   "outputs": [],
   "source": [
    "from statsmodels.stats import weightstats as stests\n",
    "\n",
    "# Use the help() function to display the documentation for the ztest() function in the statsmodels.stats.weightstats module.\n",
    "help(stests.ztest)"
   ]
  },
  {
   "cell_type": "markdown",
   "id": "f2089d45",
   "metadata": {},
   "source": [
    "### One Sample Z Test\n",
    "\n",
    "The one-sample z-test is used to test whether the mean of a population is greater than, less than, or not equal to a specific value. Because the standard normal distribution is used to calculate critical values for the test, this test is often called the one-sample z-test."
   ]
  },
  {
   "cell_type": "markdown",
   "id": "4b3f65a4",
   "metadata": {},
   "source": [
    "## We are testing whether the mean of house prices is 180000 or not"
   ]
  },
  {
   "cell_type": "code",
   "execution_count": null,
   "id": "adbd1adb",
   "metadata": {},
   "outputs": [],
   "source": [
    "from scipy import stats\n",
    "\n",
    "# Perform a one-sample z-test using the stests.ztest() function from the statsmodels.stats.weightstats module.\n",
    "# The ztest() function compares the sample mean (x1) to a specified value (value) and returns the z-test statistic and p-value.\n",
    "ztest ,pval = stests.ztest(x1 = data['SalePrice'], x2=None, value=180000)\n",
    "\n",
    "# Print the obtained p-value.\n",
    "print(\"P-value :\",float(pval))\n",
    "\n",
    "# Based on the p-value, determine whether to reject or fail to reject the null hypothesis.\n",
    "if pval<0.05:\n",
    "    print(\" We reject the null hypothesis\")\n",
    "else:\n",
    "    print(\"We fail to reject the null hypothesis\")"
   ]
  },
  {
   "cell_type": "markdown",
   "id": "0fc65157",
   "metadata": {},
   "source": [
    "### Two sample Z Test\n",
    "\n",
    "In two sample z-test , similar to t-test here we are checking two independent data groups and deciding whether sample mean of two group is equal or not."
   ]
  },
  {
   "cell_type": "code",
   "execution_count": null,
   "id": "c7303520",
   "metadata": {},
   "outputs": [],
   "source": [
    "# Two Sample Z test\n",
    "ztest, pval = stests.ztest(x1 = data['1stFlrSF'], x2 = data['2ndFlrSF'], value = 0, alternative = 'smaller')\n",
    "\n",
    "# Print the obtained p-value.\n",
    "print(\"p-value\", pval)\n",
    "\n",
    "# Based on the p-value, determine whether to reject or fail to reject the null hypothesis.\n",
    "if pval <0.05:\n",
    "    print(\"we reject null hypothesis\")\n",
    "else:\n",
    "    print(\"we accept null hypothesis\")"
   ]
  }
 ],
 "metadata": {
  "kernelspec": {
   "display_name": "Python 3 (ipykernel)",
   "language": "python",
   "name": "python3"
  },
  "language_info": {
   "codemirror_mode": {
    "name": "ipython",
    "version": 3
   },
   "file_extension": ".py",
   "mimetype": "text/x-python",
   "name": "python",
   "nbconvert_exporter": "python",
   "pygments_lexer": "ipython3",
   "version": "3.10.9"
  }
 },
 "nbformat": 4,
 "nbformat_minor": 5
}
