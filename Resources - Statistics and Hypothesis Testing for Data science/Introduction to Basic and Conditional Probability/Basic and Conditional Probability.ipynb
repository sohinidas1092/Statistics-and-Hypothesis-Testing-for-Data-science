{
 "cells": [
  {
   "cell_type": "markdown",
   "id": "3269a76c",
   "metadata": {},
   "source": [
    "## Introduction to Basic and Conditional Probability"
   ]
  },
  {
   "cell_type": "markdown",
   "id": "df1e0683",
   "metadata": {},
   "source": [
    "## Basic Probability\n",
    "\n",
    "To perform basic probability calculations on IPL (Indian Premier League) data using Python, you can use the pandas library to load and analyze the data. Here's an example of how you can calculate probabilities based on IPL data:"
   ]
  },
  {
   "cell_type": "code",
   "execution_count": 4,
   "id": "eece1b94",
   "metadata": {},
   "outputs": [],
   "source": [
    "# importing the libraries\n",
    "import pandas as pd\n",
    "import numpy as np"
   ]
  },
  {
   "cell_type": "code",
   "execution_count": 5,
   "id": "5eed5bbc",
   "metadata": {},
   "outputs": [
    {
     "data": {
      "text/html": [
       "<div>\n",
       "<style scoped>\n",
       "    .dataframe tbody tr th:only-of-type {\n",
       "        vertical-align: middle;\n",
       "    }\n",
       "\n",
       "    .dataframe tbody tr th {\n",
       "        vertical-align: top;\n",
       "    }\n",
       "\n",
       "    .dataframe thead th {\n",
       "        text-align: right;\n",
       "    }\n",
       "</style>\n",
       "<table border=\"1\" class=\"dataframe\">\n",
       "  <thead>\n",
       "    <tr style=\"text-align: right;\">\n",
       "      <th></th>\n",
       "      <th>id</th>\n",
       "      <th>Season</th>\n",
       "      <th>city</th>\n",
       "      <th>date</th>\n",
       "      <th>team1</th>\n",
       "      <th>team2</th>\n",
       "      <th>toss_winner</th>\n",
       "      <th>toss_decision</th>\n",
       "      <th>result</th>\n",
       "      <th>dl_applied</th>\n",
       "      <th>winner</th>\n",
       "      <th>win_by_runs</th>\n",
       "      <th>win_by_wickets</th>\n",
       "      <th>player_of_match</th>\n",
       "      <th>venue</th>\n",
       "      <th>umpire1</th>\n",
       "      <th>umpire2</th>\n",
       "      <th>umpire3</th>\n",
       "    </tr>\n",
       "  </thead>\n",
       "  <tbody>\n",
       "    <tr>\n",
       "      <th>0</th>\n",
       "      <td>1</td>\n",
       "      <td>IPL-2017</td>\n",
       "      <td>Hyderabad</td>\n",
       "      <td>2017-05-04 00:00:00</td>\n",
       "      <td>Sunrisers Hyderabad</td>\n",
       "      <td>Royal Challengers Bangalore</td>\n",
       "      <td>Royal Challengers Bangalore</td>\n",
       "      <td>field</td>\n",
       "      <td>normal</td>\n",
       "      <td>0</td>\n",
       "      <td>Sunrisers Hyderabad</td>\n",
       "      <td>35</td>\n",
       "      <td>0</td>\n",
       "      <td>Yuvraj Singh</td>\n",
       "      <td>Rajiv Gandhi International Stadium, Uppal</td>\n",
       "      <td>AY Dandekar</td>\n",
       "      <td>NJ Llong</td>\n",
       "      <td>NaN</td>\n",
       "    </tr>\n",
       "    <tr>\n",
       "      <th>1</th>\n",
       "      <td>2</td>\n",
       "      <td>IPL-2017</td>\n",
       "      <td>Pune</td>\n",
       "      <td>2017-06-04 00:00:00</td>\n",
       "      <td>Mumbai Indians</td>\n",
       "      <td>Rising Pune Supergiant</td>\n",
       "      <td>Rising Pune Supergiant</td>\n",
       "      <td>field</td>\n",
       "      <td>normal</td>\n",
       "      <td>0</td>\n",
       "      <td>Rising Pune Supergiant</td>\n",
       "      <td>0</td>\n",
       "      <td>7</td>\n",
       "      <td>SPD Smith</td>\n",
       "      <td>Maharashtra Cricket Association Stadium</td>\n",
       "      <td>A Nand Kishore</td>\n",
       "      <td>S Ravi</td>\n",
       "      <td>NaN</td>\n",
       "    </tr>\n",
       "    <tr>\n",
       "      <th>2</th>\n",
       "      <td>3</td>\n",
       "      <td>IPL-2017</td>\n",
       "      <td>Rajkot</td>\n",
       "      <td>2017-07-04 00:00:00</td>\n",
       "      <td>Gujarat Lions</td>\n",
       "      <td>Kolkata Knight Riders</td>\n",
       "      <td>Kolkata Knight Riders</td>\n",
       "      <td>field</td>\n",
       "      <td>normal</td>\n",
       "      <td>0</td>\n",
       "      <td>Kolkata Knight Riders</td>\n",
       "      <td>0</td>\n",
       "      <td>10</td>\n",
       "      <td>CA Lynn</td>\n",
       "      <td>Saurashtra Cricket Association Stadium</td>\n",
       "      <td>Nitin Menon</td>\n",
       "      <td>CK Nandan</td>\n",
       "      <td>NaN</td>\n",
       "    </tr>\n",
       "    <tr>\n",
       "      <th>3</th>\n",
       "      <td>4</td>\n",
       "      <td>IPL-2017</td>\n",
       "      <td>Indore</td>\n",
       "      <td>2017-08-04 00:00:00</td>\n",
       "      <td>Rising Pune Supergiant</td>\n",
       "      <td>Kings XI Punjab</td>\n",
       "      <td>Kings XI Punjab</td>\n",
       "      <td>field</td>\n",
       "      <td>normal</td>\n",
       "      <td>0</td>\n",
       "      <td>Kings XI Punjab</td>\n",
       "      <td>0</td>\n",
       "      <td>6</td>\n",
       "      <td>GJ Maxwell</td>\n",
       "      <td>Holkar Cricket Stadium</td>\n",
       "      <td>AK Chaudhary</td>\n",
       "      <td>C Shamshuddin</td>\n",
       "      <td>NaN</td>\n",
       "    </tr>\n",
       "    <tr>\n",
       "      <th>4</th>\n",
       "      <td>5</td>\n",
       "      <td>IPL-2017</td>\n",
       "      <td>Bangalore</td>\n",
       "      <td>2017-08-04 00:00:00</td>\n",
       "      <td>Royal Challengers Bangalore</td>\n",
       "      <td>Delhi Daredevils</td>\n",
       "      <td>Royal Challengers Bangalore</td>\n",
       "      <td>bat</td>\n",
       "      <td>normal</td>\n",
       "      <td>0</td>\n",
       "      <td>Royal Challengers Bangalore</td>\n",
       "      <td>15</td>\n",
       "      <td>0</td>\n",
       "      <td>KM Jadhav</td>\n",
       "      <td>M Chinnaswamy Stadium</td>\n",
       "      <td>NaN</td>\n",
       "      <td>NaN</td>\n",
       "      <td>NaN</td>\n",
       "    </tr>\n",
       "  </tbody>\n",
       "</table>\n",
       "</div>"
      ],
      "text/plain": [
       "   id    Season       city                 date                        team1  \\\n",
       "0   1  IPL-2017  Hyderabad  2017-05-04 00:00:00          Sunrisers Hyderabad   \n",
       "1   2  IPL-2017       Pune  2017-06-04 00:00:00               Mumbai Indians   \n",
       "2   3  IPL-2017     Rajkot  2017-07-04 00:00:00                Gujarat Lions   \n",
       "3   4  IPL-2017     Indore  2017-08-04 00:00:00       Rising Pune Supergiant   \n",
       "4   5  IPL-2017  Bangalore  2017-08-04 00:00:00  Royal Challengers Bangalore   \n",
       "\n",
       "                         team2                  toss_winner toss_decision  \\\n",
       "0  Royal Challengers Bangalore  Royal Challengers Bangalore         field   \n",
       "1       Rising Pune Supergiant       Rising Pune Supergiant         field   \n",
       "2        Kolkata Knight Riders        Kolkata Knight Riders         field   \n",
       "3              Kings XI Punjab              Kings XI Punjab         field   \n",
       "4             Delhi Daredevils  Royal Challengers Bangalore           bat   \n",
       "\n",
       "   result  dl_applied                       winner  win_by_runs  \\\n",
       "0  normal           0          Sunrisers Hyderabad           35   \n",
       "1  normal           0       Rising Pune Supergiant            0   \n",
       "2  normal           0        Kolkata Knight Riders            0   \n",
       "3  normal           0              Kings XI Punjab            0   \n",
       "4  normal           0  Royal Challengers Bangalore           15   \n",
       "\n",
       "   win_by_wickets player_of_match                                      venue  \\\n",
       "0               0    Yuvraj Singh  Rajiv Gandhi International Stadium, Uppal   \n",
       "1               7       SPD Smith    Maharashtra Cricket Association Stadium   \n",
       "2              10         CA Lynn     Saurashtra Cricket Association Stadium   \n",
       "3               6      GJ Maxwell                     Holkar Cricket Stadium   \n",
       "4               0       KM Jadhav                      M Chinnaswamy Stadium   \n",
       "\n",
       "          umpire1        umpire2 umpire3  \n",
       "0     AY Dandekar       NJ Llong     NaN  \n",
       "1  A Nand Kishore         S Ravi     NaN  \n",
       "2     Nitin Menon      CK Nandan     NaN  \n",
       "3    AK Chaudhary  C Shamshuddin     NaN  \n",
       "4             NaN            NaN     NaN  "
      ]
     },
     "execution_count": 5,
     "metadata": {},
     "output_type": "execute_result"
    }
   ],
   "source": [
    "# reading the dataset\n",
    "df=pd.read_excel(\"matches.xlsx\")\n",
    "\n",
    "# checking the first five rows\n",
    "df.head()"
   ]
  },
  {
   "cell_type": "code",
   "execution_count": 6,
   "id": "abaa880b",
   "metadata": {},
   "outputs": [
    {
     "data": {
      "text/plain": [
       "Index(['id', 'Season', 'city', 'date', 'team1', 'team2', 'toss_winner',\n",
       "       'toss_decision', 'result', 'dl_applied', 'winner', 'win_by_runs',\n",
       "       'win_by_wickets', 'player_of_match', 'venue', 'umpire1', 'umpire2',\n",
       "       'umpire3'],\n",
       "      dtype='object')"
      ]
     },
     "execution_count": 6,
     "metadata": {},
     "output_type": "execute_result"
    }
   ],
   "source": [
    "# checking the columns present in the data\n",
    "df.columns"
   ]
  },
  {
   "cell_type": "markdown",
   "id": "fbccf24c",
   "metadata": {},
   "source": [
    "**Calculating the probability of a team winning a match:**"
   ]
  },
  {
   "cell_type": "code",
   "execution_count": 7,
   "id": "0ae9619f",
   "metadata": {},
   "outputs": [
    {
     "name": "stdout",
     "output_type": "stream",
     "text": [
      "Probability of Mumbai Indians winning a match:14.42%\n"
     ]
    }
   ],
   "source": [
    "# Total number of matches\n",
    "total_matches = len(df)\n",
    "\n",
    "# Number of matches won by Mumbai Indians\n",
    "team_wins = len(df[df['winner'] == 'Mumbai Indians'])\n",
    "\n",
    "probability = team_wins / total_matches\n",
    "print(\"Probability of Mumbai Indians winning a match:{0:.2f}%\".format(probability*100))"
   ]
  },
  {
   "cell_type": "markdown",
   "id": "6ccec882",
   "metadata": {},
   "source": [
    "**Calculating the probability distribution of toss results:**"
   ]
  },
  {
   "cell_type": "code",
   "execution_count": 8,
   "id": "04424510",
   "metadata": {},
   "outputs": [
    {
     "name": "stdout",
     "output_type": "stream",
     "text": [
      "Probability distribution of toss results:\n",
      "Mumbai Indians                 12.96\n",
      "Kolkata Knight Riders          12.17\n",
      "Chennai Super Kings            11.77\n",
      "Royal Challengers Bangalore    10.71\n",
      "Kings XI Punjab                10.71\n",
      "Delhi Daredevils               10.58\n",
      "Rajasthan Royals               10.58\n",
      "Sunrisers Hyderabad             6.08\n",
      "Deccan Chargers                 5.69\n",
      "Pune Warriors                   2.65\n",
      "Gujarat Lions                   1.98\n",
      "Delhi Capitals                  1.32\n",
      "Kochi Tuskers Kerala            1.06\n",
      "Rising Pune Supergiants         0.93\n",
      "Rising Pune Supergiant          0.79\n",
      "Name: toss_winner, dtype: float64\n"
     ]
    }
   ],
   "source": [
    "# Count of each team winning the toss\n",
    "toss_counts = df['toss_winner'].value_counts()\n",
    "\n",
    "# Total number of matches\n",
    "total_matches = len(df)\n",
    "\n",
    "toss_probability = (toss_counts / total_matches)*100\n",
    "toss_probability = round(toss_probability, 2)\n",
    "print(\"Probability distribution of toss results:\")\n",
    "print(toss_probability)"
   ]
  },
  {
   "cell_type": "markdown",
   "id": "f3aa15f7",
   "metadata": {},
   "source": [
    "**Probability of a specific outcome in the toss (e.g., winning the toss and choosing to bat):**"
   ]
  },
  {
   "cell_type": "code",
   "execution_count": 9,
   "id": "e96ab7e6",
   "metadata": {},
   "outputs": [
    {
     "name": "stdout",
     "output_type": "stream",
     "text": [
      "Probability of Chennai Super Kings choosing to bat after winning the toss:6.35%\n"
     ]
    }
   ],
   "source": [
    "# Total number of tosses\n",
    "total_tosses = len(df)\n",
    "batting_choice = len(df[(df['toss_winner'] == 'Chennai Super Kings') & (df['toss_decision'] == 'bat')])\n",
    "\n",
    "probability = batting_choice / total_tosses\n",
    "print(\"Probability of Chennai Super Kings choosing to bat after winning the toss:{0:.2f}%\".format(probability*100))"
   ]
  },
  {
   "cell_type": "markdown",
   "id": "9f2c4761",
   "metadata": {},
   "source": [
    "**Probability of a team winning after winning the toss and choosing to field:**"
   ]
  },
  {
   "cell_type": "code",
   "execution_count": 10,
   "id": "98ccbf31",
   "metadata": {},
   "outputs": [
    {
     "name": "stdout",
     "output_type": "stream",
     "text": [
      "Probability of a team winning after winning the toss and choosing to field:34.26%\n"
     ]
    }
   ],
   "source": [
    "# Total number of matches\n",
    "total_matches = len(df)\n",
    "toss_field = len(df[(df['toss_decision'] == 'field') & (df['winner'] == df['toss_winner'])])\n",
    "\n",
    "probability = toss_field / total_matches\n",
    "print(\"Probability of a team winning after winning the toss and choosing to field:{0:.2f}%\".format(probability*100))"
   ]
  },
  {
   "cell_type": "markdown",
   "id": "553e7196",
   "metadata": {},
   "source": [
    "**Probability of a specific event occurring in a match (e.g., a player scoring a century):**"
   ]
  },
  {
   "cell_type": "code",
   "execution_count": 11,
   "id": "922fa394",
   "metadata": {},
   "outputs": [
    {
     "name": "stdout",
     "output_type": "stream",
     "text": [
      "Probability of MS Dhoni being the player of the match and scoring a century:2.25%\n"
     ]
    }
   ],
   "source": [
    "# Total number of matches\n",
    "total_matches = len(df)\n",
    "century_matches = len(df[df['player_of_match'] == 'MS Dhoni'])\n",
    "\n",
    "probability = century_matches / total_matches\n",
    "print(\"Probability of MS Dhoni being the player of the match and scoring a century:{0:.2f}%\".format(probability*100))"
   ]
  },
  {
   "cell_type": "markdown",
   "id": "6907cf2b",
   "metadata": {},
   "source": [
    "##  Set Theory"
   ]
  },
  {
   "cell_type": "markdown",
   "id": "bb5fe22c",
   "metadata": {},
   "source": [
    "To perform set theory operations on two umpire columns in IPL (Indian Premier League) data using Python, you can apply the set operations individually on each column or consider both columns together. Here's an example of how you can apply set operations on two umpire columns:"
   ]
  },
  {
   "cell_type": "code",
   "execution_count": 12,
   "id": "76d2a45e",
   "metadata": {},
   "outputs": [
    {
     "name": "stdout",
     "output_type": "stream",
     "text": [
      "Union Set:\n",
      "{'GA Pratapkumar', 'Subroto Das', 'Rod Tucker', 'BG Jerling', 'K Ananthapadmanabhan', 'Ulhas Gandhe', 'K Hariharan', 'RK Illingworth', 'A Deshmukh', 'TH Wijewardene', 'C Shamshuddin', 'AV Jayaprakash', 'PG Pathak', 'Aleem Dar', 'Nand Kishore', 'K Srinath', 'Bruce Oxenford', 'Vineet Kulkarni', 'SL Shastri', 'Anil Dandekar', 'S Das', 'Anil Chaudhary', 'Sundaram Ravi', 'MR Benson', 'S Asnani', 'Marais Erasmus', 'Yeshwant Barde', 'RJ Tucker', 'Nigel Llong', 'AY Dandekar', 'HDPK Dharmasena', 'SJ Davis', 'VK Sharma', 'SD Fry', 'GAV Baxter', 'JD Cloete', 'AL Hill', 'I Shivram', 'AK Chaudhary', 'IL Howell', 'M Erasmus', 'SJA Taufel', 'YC Barde', 'KN Ananthapadmanabhan', 'Nitin Menon', 'Asad Rauf', 'S Ravi', 'Chris Gaffaney', 'Nanda Kishore', 'O Nandan', 'NJ Llong', 'PR Reiffel', nan, 'Virender Kumar Sharma', 'SD Ranade', 'CB Gaffaney', 'VA Kulkarni', 'SK Tarapore', 'KN Anantapadmanabhan', 'Ian Gould', 'SS Hazare', 'DJ Harper', 'BR Doctrove', 'AM Saheba', 'K Bharatan', 'RM Deshpande', 'A Nanda Kishore', 'K Srinivasan', 'RE Koertzen', 'BNJ Oxenford', 'CK Nandan', 'A Nand Kishore', 'BF Bowden', 'A.D Deshmukh', 'RB Tiffin', 'Kumar Dharmasena'}\n"
     ]
    }
   ],
   "source": [
    "# Extract unique umpires from the first umpire column\n",
    "umpire1_set = set(df['umpire1'])\n",
    "\n",
    "# Extract unique umpires from the second umpire column\n",
    "umpire2_set = set(df['umpire2'])\n",
    "\n",
    "# Perform union of umpires from both columns\n",
    "union_set = umpire1_set.union(umpire2_set)\n",
    "\n",
    "print(\"Union Set:\")\n",
    "print(union_set)"
   ]
  },
  {
   "cell_type": "code",
   "execution_count": 13,
   "id": "6ff73023",
   "metadata": {},
   "outputs": [
    {
     "name": "stdout",
     "output_type": "stream",
     "text": [
      "Intersection Set:\n",
      "{'Anil Chaudhary', 'S Das', 'CB Gaffaney', 'Rod Tucker', 'BG Jerling', 'VA Kulkarni', 'K Ananthapadmanabhan', 'MR Benson', 'Ulhas Gandhe', 'SK Tarapore', 'K Hariharan', 'RK Illingworth', 'A Deshmukh', 'S Asnani', 'Yeshwant Barde', 'AK Chaudhary', 'C Shamshuddin', 'IL Howell', 'SS Hazare', 'DJ Harper', 'Nigel Llong', 'Ian Gould', 'BR Doctrove', 'HDPK Dharmasena', 'AM Saheba', 'AV Jayaprakash', 'M Erasmus', 'SJA Taufel', 'A Nanda Kishore', 'KN Ananthapadmanabhan', 'SJ Davis', 'Nitin Menon', 'PG Pathak', 'S Ravi', 'Chris Gaffaney', 'RE Koertzen', 'BNJ Oxenford', 'CK Nandan', 'O Nandan', 'Nanda Kishore', 'NJ Llong', 'A Nand Kishore', 'SD Fry', 'PR Reiffel', 'K Srinath', nan, 'JD Cloete', 'Bruce Oxenford', 'Vineet Kulkarni', 'Kumar Dharmasena', 'SL Shastri', 'Anil Dandekar'}\n"
     ]
    }
   ],
   "source": [
    "# Perform intersection of umpires from both columns\n",
    "intersection_set = umpire1_set.intersection(umpire2_set)\n",
    "\n",
    "print(\"Intersection Set:\")\n",
    "print(intersection_set)"
   ]
  },
  {
   "cell_type": "code",
   "execution_count": 14,
   "id": "b2ff27ee",
   "metadata": {},
   "outputs": [
    {
     "name": "stdout",
     "output_type": "stream",
     "text": [
      "Difference (Umpire1 - Umpire2) Set:\n",
      "{'K Bharatan', 'RM Deshpande', 'Marais Erasmus', 'YC Barde', 'BF Bowden', 'Sundaram Ravi', 'Aleem Dar', 'Asad Rauf', 'GAV Baxter', 'AY Dandekar'}\n"
     ]
    }
   ],
   "source": [
    "# Perform difference between umpires of the first column and second column\n",
    "difference1_set = umpire1_set.difference(umpire2_set)\n",
    "\n",
    "print(\"Difference (Umpire1 - Umpire2) Set:\")\n",
    "print(difference1_set)"
   ]
  },
  {
   "cell_type": "markdown",
   "id": "db4c47af",
   "metadata": {},
   "source": [
    "##  Conditional Probability\n",
    "Conditional probability in IPL data involves calculating the probability of an event occurring given that another event has already occurred. Here's an example of calculating conditional probability in IPL data using Python:\n",
    "\n",
    "**Suppose you want to calculate the probability of a team winning the match given that they have won the toss. You can use the following code:**"
   ]
  },
  {
   "cell_type": "code",
   "execution_count": 15,
   "id": "4a0eaf10",
   "metadata": {},
   "outputs": [
    {
     "name": "stdout",
     "output_type": "stream",
     "text": [
      "Conditional Probability of Mumbai Indians winning the match given they won the toss: 57.14%\n"
     ]
    }
   ],
   "source": [
    "# Total number of matches\n",
    "total_matches = len(df)\n",
    "\n",
    " # Number of matches won by Mumbai Indians in the toss\n",
    "toss_wins = len(df[df['toss_winner'] == 'Mumbai Indians'])\n",
    "match_wins_given_toss = len(df[(df['toss_winner'] == 'Mumbai Indians') & (df['winner'] == 'Mumbai Indians')])\n",
    "\n",
    "conditional_probability = match_wins_given_toss / toss_wins\n",
    "print(\"Conditional Probability of Mumbai Indians winning the match given they won the toss: {0:.2f}%\".format(conditional_probability*100))"
   ]
  },
  {
   "cell_type": "markdown",
   "id": "6fdd5738",
   "metadata": {},
   "source": [
    "In this code, toss_wins represents the number of matches where Mumbai Indians won the toss, and match_wins_given_toss represents the number of matches Mumbai Indians won after winning the toss. The conditional probability is then calculated by dividing match_wins_given_toss by toss_wins."
   ]
  },
  {
   "cell_type": "markdown",
   "id": "3c1af5be",
   "metadata": {},
   "source": [
    "**Suppose you want to calculate the probability of a team winning the match given that they have chosen to field after winning the toss. You can use the following code:**"
   ]
  },
  {
   "cell_type": "code",
   "execution_count": 16,
   "id": "e02e07f1",
   "metadata": {},
   "outputs": [
    {
     "name": "stdout",
     "output_type": "stream",
     "text": [
      "Probability of Mumbai Indians winning the match while fielding : 13.82%\n"
     ]
    }
   ],
   "source": [
    "# Total number of matches\n",
    "total_matches = len(df)\n",
    "\n",
    "# Number of matches where the toss decision was to field\n",
    "toss_field = len(df[(df['toss_decision'] == 'field')])\n",
    "match_wins_given_field = len(df[(df['toss_decision'] == 'field') & (df['winner'] == 'Mumbai Indians')])\n",
    "\n",
    "conditional_probability = match_wins_given_field / toss_field\n",
    "print(\"Probability of Mumbai Indians winning the match while fielding : {0:.2f}%\".format(conditional_probability*100))"
   ]
  },
  {
   "cell_type": "markdown",
   "id": "3f5c15d7",
   "metadata": {},
   "source": [
    "In this code, toss_field represents the number of matches where the toss decision was to field, and match_wins_given_field represents the number of matches won by Mumbai Indians when they chose to field. The conditional probability is then calculated by dividing match_wins_given_field by toss_field."
   ]
  },
  {
   "cell_type": "markdown",
   "id": "723673c2",
   "metadata": {},
   "source": [
    "## Bayes Theorem\n",
    "\n",
    "Bayes' theorem is a fundamental concept in probability theory that allows us to update the probability of an event based on new evidence. Here's an example of applying Bayes' theorem in IPL data using Python:\n",
    "\n",
    "**Suppose you want to calculate the probability of a team winning the match given that they have won the toss. You also have prior knowledge about the overall win rate of teams in the IPL. Here's how you can use Bayes' theorem to update the probability:**"
   ]
  },
  {
   "cell_type": "code",
   "execution_count": null,
   "id": "5b764b1c",
   "metadata": {},
   "outputs": [],
   "source": [
    "# Total number of matches\n",
    "total_matches = len(df)\n",
    "\n",
    "# Number of matches won by Mumbai Indians in the toss\n",
    "toss_wins = len(df[df['toss_winner'] == 'Mumbai Indians'])\n",
    "\n",
    "# Number of matches won by Mumbai Indians in both toss and match\n",
    "match_wins_and_toss = len(df[(df['winner'] == 'Mumbai Indians') & (df['toss_winner'] == 'Mumbai Indians')])\n",
    "\n",
    "# Prior Probability: Probability of Mumbai Indians winning the match\n",
    "prior_probability = match_wins_and_toss / total_matches\n",
    "\n",
    "# Likelihood: Probability of winning the toss and the match\n",
    "likelihood = match_wins_and_toss / toss_wins\n",
    "\n",
    "# Evidence: Probability of Mumbai Indians winning the toss\n",
    "evidence = toss_wins / total_matches\n",
    "\n",
    "# Applying Bayes' theorem\n",
    "posterior_probability = (likelihood * prior_probability) / evidence\n",
    "\n",
    "print(\"Posterior Probability of Mumbai Indians winning the match given they won the toss: {0:.2f}%\".format(posterior_probability*100))"
   ]
  },
  {
   "cell_type": "markdown",
   "id": "c06cfdd9",
   "metadata": {},
   "source": [
    "In this code, prior_probability represents the probability of Mumbai Indians winning the match before considering the toss outcome. likelihood represents the probability of Mumbai Indians winning the toss given that they won the match. evidence represents the probability of Mumbai Indians winning the toss based on the total matches. Bayes' theorem is then applied to calculate the posterior_probability of Mumbai Indians winning the match given they won the toss."
   ]
  },
  {
   "cell_type": "code",
   "execution_count": null,
   "id": "020660cb",
   "metadata": {},
   "outputs": [],
   "source": []
  }
 ],
 "metadata": {
  "kernelspec": {
   "display_name": "Python 3 (ipykernel)",
   "language": "python",
   "name": "python3"
  },
  "language_info": {
   "codemirror_mode": {
    "name": "ipython",
    "version": 3
   },
   "file_extension": ".py",
   "mimetype": "text/x-python",
   "name": "python",
   "nbconvert_exporter": "python",
   "pygments_lexer": "ipython3",
   "version": "3.10.9"
  }
 },
 "nbformat": 4,
 "nbformat_minor": 5
}
