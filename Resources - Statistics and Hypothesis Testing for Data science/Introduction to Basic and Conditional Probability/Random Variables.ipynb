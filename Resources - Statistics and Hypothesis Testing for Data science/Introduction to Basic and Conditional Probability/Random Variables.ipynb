{
 "cells": [
  {
   "cell_type": "markdown",
   "id": "92d99a75",
   "metadata": {},
   "source": [
    "## Random Variables\n",
    "\n",
    "In probability theory, a random variable is a mathematical concept that assigns a numerical value to each possible outcome of a random event or experiment. It represents the uncertain outcome of a random process and serves as a way to quantify and analyze the probabilities associated with different outcomes."
   ]
  },
  {
   "cell_type": "code",
   "execution_count": 1,
   "id": "4f0e3531",
   "metadata": {},
   "outputs": [
    {
     "name": "stdout",
     "output_type": "stream",
     "text": [
      "Rolled value: 4\n"
     ]
    }
   ],
   "source": [
    "import random\n",
    "\n",
    "# Example of a discrete random variable - rolling a fair six-sided die\n",
    "outcomes = [1, 2, 3, 4, 5, 6]\n",
    "rolled_value = random.choice(outcomes)\n",
    "print(\"Rolled value:\", rolled_value)"
   ]
  },
  {
   "cell_type": "code",
   "execution_count": 2,
   "id": "a8de28f3",
   "metadata": {},
   "outputs": [
    {
     "name": "stdout",
     "output_type": "stream",
     "text": [
      "Random value: 0.9891548815190968\n"
     ]
    }
   ],
   "source": [
    "import random\n",
    "\n",
    "# Example of a continuous random variable - generating a random number between 0 and 1\n",
    "random_value = random.random()\n",
    "print(\"Random value:\", random_value)"
   ]
  },
  {
   "cell_type": "code",
   "execution_count": null,
   "id": "3ea4c78f",
   "metadata": {},
   "outputs": [],
   "source": []
  }
 ],
 "metadata": {
  "kernelspec": {
   "display_name": "Python 3 (ipykernel)",
   "language": "python",
   "name": "python3"
  },
  "language_info": {
   "codemirror_mode": {
    "name": "ipython",
    "version": 3
   },
   "file_extension": ".py",
   "mimetype": "text/x-python",
   "name": "python",
   "nbconvert_exporter": "python",
   "pygments_lexer": "ipython3",
   "version": "3.10.9"
  }
 },
 "nbformat": 4,
 "nbformat_minor": 5
}
